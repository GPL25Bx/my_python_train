{
 "cells": [
  {
   "cell_type": "markdown",
   "id": "20864c5e-eefb-4d1e-ba19-f4ee5d4733aa",
   "metadata": {},
   "source": [
    "- http://video.ittensive.com/machine-learning/ashrae/building_metadata.csv.gz\n",
    "- http://video.ittensive.com/machine-learning/ashrae/weather_train.csv.gz\n",
    "- http://video.ittensive.com/machine-learning/ashrae/train.0.0.csv.gz"
   ]
  },
  {
   "cell_type": "code",
   "execution_count": 1,
   "id": "1940ac5e-8b61-4cfe-b274-daccfb42d025",
   "metadata": {},
   "outputs": [],
   "source": [
    "import numpy as np\n",
    "import pandas as pd\n",
    "from sklearn.model_selection import train_test_split"
   ]
  },
  {
   "cell_type": "markdown",
   "id": "c37e50f4-6f3c-431d-a4d1-e8cdf677173f",
   "metadata": {},
   "source": [
    "## Обогащение данных"
   ]
  },
  {
   "cell_type": "code",
   "execution_count": 2,
   "id": "ad7e3544-e34c-4fb1-bec0-2f5837c1f8b3",
   "metadata": {},
   "outputs": [
    {
     "name": "stdout",
     "output_type": "stream",
     "text": [
      "   Unnamed: 0            timestamp  site_id  building_id  meter  \\\n",
      "0           0  2016-01-01 00:00:00        0            0      0   \n",
      "1           1  2016-01-01 01:00:00        0            0      0   \n",
      "2           2  2016-01-01 02:00:00        0            0      0   \n",
      "3           3  2016-01-01 03:00:00        0            0      0   \n",
      "4           4  2016-01-01 04:00:00        0            0      0   \n",
      "\n",
      "   meter_reading primary_use  square_feet  year_built  floor_count  \\\n",
      "0            0.0   Education         7432      2008.0          NaN   \n",
      "1            0.0   Education         7432      2008.0          NaN   \n",
      "2            0.0   Education         7432      2008.0          NaN   \n",
      "3            0.0   Education         7432      2008.0          NaN   \n",
      "4            0.0   Education         7432      2008.0          NaN   \n",
      "\n",
      "   air_temperature  cloud_coverage  dew_temperature  precip_depth_1_hr  \\\n",
      "0             25.0             6.0             20.0                0.0   \n",
      "1             24.4             0.0             21.1                0.0   \n",
      "2             22.8             2.0             21.1                0.0   \n",
      "3             21.1             2.0             20.6                0.0   \n",
      "4             20.0             2.0             20.0                0.0   \n",
      "\n",
      "   sea_level_pressure  wind_direction  wind_speed  \n",
      "0              1019.7             0.0         0.0  \n",
      "1              1020.2            70.0         1.5  \n",
      "2              1020.2             0.0         0.0  \n",
      "3              1020.1             0.0         0.0  \n",
      "4              1020.0           250.0         2.6  \n"
     ]
    }
   ],
   "source": [
    "data = pd.read_csv('energy_0.csv')\n",
    "print(data.head())"
   ]
  },
  {
   "cell_type": "code",
   "execution_count": 3,
   "id": "5396f85b-dea7-410b-8744-5bd06132251d",
   "metadata": {},
   "outputs": [],
   "source": [
    "data['wind_direction_rad'] = data['wind_direction']*np.pi/180\n",
    "data['wind_direction_sin'] = np.sin(data['wind_direction_rad'])\n",
    "data['wind_direction_cos'] = np.cos(data['wind_direction_rad'])\n",
    "data = data.drop(labels=['wind_direction_rad'], axis=1)"
   ]
  },
  {
   "cell_type": "markdown",
   "id": "7f7940e8-0e8b-45ef-8129-57fd6078c23b",
   "metadata": {},
   "source": [
    "Производная температуры"
   ]
  },
  {
   "cell_type": "code",
   "execution_count": 4,
   "id": "0bcc7215-2364-46ef-975f-e2f13bb29aeb",
   "metadata": {},
   "outputs": [],
   "source": [
    "data['air_temperature1'] = data['air_temperature'].diff()\n",
    "data.at[0, 'air_temperature1'] = data.at[1, 'air_temperature1']"
   ]
  },
  {
   "cell_type": "markdown",
   "id": "a7428b8a-1863-4cef-b515-3235cd0f3694",
   "metadata": {},
   "source": [
    "удаляем бесполезные данные\n"
   ]
  },
  {
   "cell_type": "code",
   "execution_count": 5,
   "id": "e7b39b72-6a64-48a9-b8d3-52d0caec2602",
   "metadata": {},
   "outputs": [],
   "source": [
    "data = data.loc[data['meter_reading'] > 0]"
   ]
  },
  {
   "cell_type": "markdown",
   "id": "c5c3d1f0-36ab-40f4-bb5a-805c91d22b41",
   "metadata": {},
   "source": [
    "Удаляем столбцы"
   ]
  },
  {
   "cell_type": "code",
   "execution_count": 6,
   "id": "97840129-7a94-4930-87af-cebd03d5297f",
   "metadata": {},
   "outputs": [
    {
     "name": "stdout",
     "output_type": "stream",
     "text": [
      "      Unnamed: 0            timestamp  meter_reading  air_temperature  \\\n",
      "704          704  2016-01-30 08:00:00        43.6839              8.3   \n",
      "725          725  2016-01-31 05:00:00        37.5408             12.8   \n",
      "737          737  2016-01-31 17:00:00        52.5571             20.6   \n",
      "2366        2366  2016-04-08 14:00:00        59.3827             21.7   \n",
      "2923        2923  2016-05-01 19:00:00       448.0000             31.1   \n",
      "\n",
      "      cloud_coverage  dew_temperature  precip_depth_1_hr  sea_level_pressure  \\\n",
      "704              0.0              6.1                0.0              1019.0   \n",
      "725              0.0             10.0                0.0              1021.9   \n",
      "737              0.0             11.7                0.0              1020.9   \n",
      "2366             2.0             14.4                0.0              1015.1   \n",
      "2923             0.0             17.2                0.0              1016.1   \n",
      "\n",
      "      wind_speed  wind_direction_sin  wind_direction_cos  air_temperature1  \n",
      "704          2.1           -0.642788           -0.766044              -2.3  \n",
      "725          0.0            0.000000            1.000000              -1.1  \n",
      "737          1.5            0.939693           -0.342020               1.7  \n",
      "2366         3.1           -0.939693           -0.342020               2.8  \n",
      "2923         4.1            0.984808           -0.173648               1.1  \n"
     ]
    }
   ],
   "source": [
    "data = data.drop(labels = ['site_id','building_id', 'meter', 'primary_use', 'square_feet', \n",
    "                           'year_built', 'floor_count', 'wind_direction'], axis=1)\n",
    "print(data.head())"
   ]
  },
  {
   "cell_type": "code",
   "execution_count": 7,
   "id": "77e6b4ec-14e0-4104-8e05-0de59571a93a",
   "metadata": {},
   "outputs": [],
   "source": [
    "data.to_csv('energy_1.csv', index=False)"
   ]
  },
  {
   "cell_type": "markdown",
   "id": "6c54a460-6f15-4279-ba7a-d6b7fbf72a2f",
   "metadata": {},
   "source": [
    "## Разделение данных\n",
    "на обучающую и проверочную выборки 80/20"
   ]
  },
  {
   "cell_type": "code",
   "execution_count": 8,
   "id": "e4cd7aae-2f85-414a-bc5a-444fad62eb80",
   "metadata": {},
   "outputs": [
    {
     "name": "stdout",
     "output_type": "stream",
     "text": [
      "      Unnamed: 0            timestamp  meter_reading  air_temperature  \\\n",
      "7106        7106  2016-10-23 02:00:00       167.2270             16.7   \n",
      "6591        6591  2016-10-01 15:00:00       236.8480             28.3   \n",
      "8312        8312  2016-12-12 08:00:00        81.9072             20.6   \n",
      "7693        7693  2016-11-16 13:00:00       183.6090             15.0   \n",
      "7572        7572  2016-11-11 12:00:00       171.3230             12.8   \n",
      "\n",
      "      cloud_coverage  dew_temperature  precip_depth_1_hr  sea_level_pressure  \\\n",
      "7106             0.0              8.9                0.0              1018.4   \n",
      "6591             4.0             22.2                0.0              1017.6   \n",
      "8312             0.0             19.4                0.0              1020.0   \n",
      "7693             0.0             11.1                0.0              1015.2   \n",
      "7572             4.0             11.7                0.0              1019.5   \n",
      "\n",
      "      wind_speed  wind_direction_sin  wind_direction_cos  air_temperature1  \n",
      "7106         3.1           -0.173648            0.984808              -1.6  \n",
      "6591         2.6            0.866025            0.500000               2.2  \n",
      "8312         0.0            0.000000            1.000000               1.2  \n",
      "7693         2.1           -0.642788            0.766044               2.2  \n",
      "7572         1.5           -0.342020            0.939693               0.0  \n"
     ]
    }
   ],
   "source": [
    "data_train, data_test = train_test_split(data, test_size=0.2)\n",
    "print(data_train.head())"
   ]
  },
  {
   "cell_type": "markdown",
   "id": "a32b6e2f-991e-420e-8879-fe00a2231796",
   "metadata": {},
   "source": [
    "## Построение модели по обучающей выборке\n",
    "среднее занчение"
   ]
  },
  {
   "cell_type": "code",
   "execution_count": 9,
   "id": "de729709-b723-401a-b6a9-169e2ba22ccb",
   "metadata": {},
   "outputs": [
    {
     "name": "stdout",
     "output_type": "stream",
     "text": [
      "237.4\n"
     ]
    }
   ],
   "source": [
    "model = float(data_train[\"meter_reading\"].mean())\n",
    "print('{0:.4}'.format(model))"
   ]
  },
  {
   "cell_type": "markdown",
   "id": "586e5e48-476d-4d7e-9d25-fb906eac6e2d",
   "metadata": {},
   "source": [
    "## Проверка модели\n",
    "на проверочной выборке"
   ]
  },
  {
   "cell_type": "code",
   "execution_count": 11,
   "id": "3ea9d200-b3be-4349-b2e7-d79a9cd45977",
   "metadata": {},
   "outputs": [
    {
     "name": "stdout",
     "output_type": "stream",
     "text": [
      "15.28%\n"
     ]
    }
   ],
   "source": [
    "err = np.mean(np.abs(data_test['meter_reading'] - model))\n",
    "print('{0:.4}%'.format(100*err/model))"
   ]
  },
  {
   "cell_type": "markdown",
   "id": "1f482151-f2b3-4880-a4ff-6ce5730d071d",
   "metadata": {},
   "source": [
    "## Задание\n",
    "1. Выделить час из timestamp\n",
    "2. Вычислить среднее энергопотребления по часам на обучающей выборке\n",
    "3. Проверить точность работы модели \"среднее по часам\" относительно модели \"общее среднее\" напроверочной выборке"
   ]
  },
  {
   "cell_type": "code",
   "execution_count": null,
   "id": "c6cde830-0c6f-4432-99b1-1ff3baea2ad3",
   "metadata": {},
   "outputs": [],
   "source": []
  }
 ],
 "metadata": {
  "kernelspec": {
   "display_name": "Python 3 (ipykernel)",
   "language": "python",
   "name": "python3"
  },
  "language_info": {
   "codemirror_mode": {
    "name": "ipython",
    "version": 3
   },
   "file_extension": ".py",
   "mimetype": "text/x-python",
   "name": "python",
   "nbconvert_exporter": "python",
   "pygments_lexer": "ipython3",
   "version": "3.9.7"
  }
 },
 "nbformat": 4,
 "nbformat_minor": 5
}
