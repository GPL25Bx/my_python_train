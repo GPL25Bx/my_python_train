{
 "cells": [
  {
   "cell_type": "code",
   "execution_count": 7,
   "id": "5e9daacd",
   "metadata": {},
   "outputs": [],
   "source": [
    "workers = [['Ivan', 'Ivanov', 100000, 1], ['Petr', 'Petrov', 150000, 6], ['Sidor', 'Sidorov', 200000, 3]]"
   ]
  },
  {
   "cell_type": "code",
   "execution_count": 8,
   "id": "2d7ef4f5",
   "metadata": {},
   "outputs": [
    {
     "name": "stdout",
     "output_type": "stream",
     "text": [
      "Ivan Ivanov is junior\n",
      "Petr Petrov is senior\n",
      "Sidor Sidorov is middle\n"
     ]
    }
   ],
   "source": [
    "for worker in workers:\n",
    "    user_name, user_family = worker[:2]\n",
    "    if worker[-1] < 2:\n",
    "        status = 'junior'\n",
    "    elif 2 <= worker[-1] <=5:\n",
    "        status = 'middle'\n",
    "    else:\n",
    "        status = 'senior'\n",
    "    print(f\"{user_name} {user_family} is {status}\")"
   ]
  },
  {
   "cell_type": "code",
   "execution_count": 9,
   "id": "2a0c1125",
   "metadata": {},
   "outputs": [],
   "source": [
    "i=0\n",
    "lst = []\n",
    "while i<=10:\n",
    "    lst.append(i)\n",
    "    i+=2"
   ]
  },
  {
   "cell_type": "code",
   "execution_count": 10,
   "id": "f25e17d1",
   "metadata": {},
   "outputs": [
    {
     "data": {
      "text/plain": [
       "[0, 2, 4, 6, 8, 10]"
      ]
     },
     "execution_count": 10,
     "metadata": {},
     "output_type": "execute_result"
    }
   ],
   "source": [
    "lst"
   ]
  },
  {
   "cell_type": "code",
   "execution_count": 12,
   "id": "6733405b",
   "metadata": {},
   "outputs": [],
   "source": [
    "salaries_dict={}\n",
    "salaries_dict['name'] = 'Masha'\n",
    "salaries_dict['surname'] = 'Volkova'\n",
    "salaries_dict['age'] = 25\n",
    "salaries_dict['salary'] = 60000\n",
    "salaries_dict['position'] = 'junior'"
   ]
  },
  {
   "cell_type": "code",
   "execution_count": 13,
   "id": "133f565d",
   "metadata": {},
   "outputs": [
    {
     "data": {
      "text/plain": [
       "{'name': 'Masha',\n",
       " 'surname': 'Volkova',\n",
       " 'age': 25,\n",
       " 'salary': 60000,\n",
       " 'position': 'junior'}"
      ]
     },
     "execution_count": 13,
     "metadata": {},
     "output_type": "execute_result"
    }
   ],
   "source": [
    "salaries_dict"
   ]
  },
  {
   "cell_type": "code",
   "execution_count": 14,
   "id": "a8fe0132",
   "metadata": {},
   "outputs": [],
   "source": [
    "users_dict={}\n",
    "users_dict['mvolkova'] = salaries_dict\n"
   ]
  },
  {
   "cell_type": "code",
   "execution_count": 15,
   "id": "fc854af5",
   "metadata": {},
   "outputs": [
    {
     "data": {
      "text/plain": [
       "{'mvolkova': {'name': 'Masha',\n",
       "  'surname': 'Volkova',\n",
       "  'age': 25,\n",
       "  'salary': 60000,\n",
       "  'position': 'junior'}}"
      ]
     },
     "execution_count": 15,
     "metadata": {},
     "output_type": "execute_result"
    }
   ],
   "source": [
    "users_dict"
   ]
  },
  {
   "cell_type": "code",
   "execution_count": null,
   "id": "0ffb28f0",
   "metadata": {},
   "outputs": [],
   "source": []
  }
 ],
 "metadata": {
  "kernelspec": {
   "display_name": "Python 3 (ipykernel)",
   "language": "python",
   "name": "python3"
  },
  "language_info": {
   "codemirror_mode": {
    "name": "ipython",
    "version": 3
   },
   "file_extension": ".py",
   "mimetype": "text/x-python",
   "name": "python",
   "nbconvert_exporter": "python",
   "pygments_lexer": "ipython3",
   "version": "3.9.7"
  }
 },
 "nbformat": 4,
 "nbformat_minor": 5
}
