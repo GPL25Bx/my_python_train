{
 "cells": [
  {
   "cell_type": "code",
   "execution_count": 56,
   "id": "80925588",
   "metadata": {},
   "outputs": [],
   "source": [
    "s =((\"['mix', 'extra', '', 'x-files', 'xyz', 'xapple', 'apple']\").lstrip(\"['\").rstrip(\"']\").replace(\"'\",\"\"))#.split(\",'\")"
   ]
  },
  {
   "cell_type": "code",
   "execution_count": 59,
   "id": "80fe40ed",
   "metadata": {},
   "outputs": [],
   "source": [
    "L = s.split(\", \")"
   ]
  },
  {
   "cell_type": "code",
   "execution_count": 60,
   "id": "69a80628",
   "metadata": {},
   "outputs": [
    {
     "name": "stdout",
     "output_type": "stream",
     "text": [
      "['mix', 'extra', '', 'x-files', 'xyz', 'xapple', 'apple']\n"
     ]
    }
   ],
   "source": [
    "print(L)"
   ]
  },
  {
   "cell_type": "code",
   "execution_count": null,
   "id": "739e95ec",
   "metadata": {},
   "outputs": [],
   "source": []
  },
  {
   "cell_type": "code",
   "execution_count": null,
   "id": "ae196168",
   "metadata": {},
   "outputs": [],
   "source": []
  }
 ],
 "metadata": {
  "kernelspec": {
   "display_name": "Python 3 (ipykernel)",
   "language": "python",
   "name": "python3"
  },
  "language_info": {
   "codemirror_mode": {
    "name": "ipython",
    "version": 3
   },
   "file_extension": ".py",
   "mimetype": "text/x-python",
   "name": "python",
   "nbconvert_exporter": "python",
   "pygments_lexer": "ipython3",
   "version": "3.9.7"
  }
 },
 "nbformat": 4,
 "nbformat_minor": 5
}
