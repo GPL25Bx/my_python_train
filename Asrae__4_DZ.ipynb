{
 "cells": [
  {
   "cell_type": "markdown",
   "id": "697f9b12-8c92-497d-9462-46b58d3c8bf7",
   "metadata": {},
   "source": [
    "## Задание\n",
    "1. Выделить час из timestamp\n",
    "2. Вычислить среднее энергопотребления по часам на обучающей выборке\n",
    "3. Проверить точность работы модели \"среднее по часам\" относительно модели \"общее среднее\" напроверочной выборке"
   ]
  },
  {
   "cell_type": "code",
   "execution_count": 7,
   "id": "e12a8571-39c3-4d50-ba19-cac372901177",
   "metadata": {},
   "outputs": [],
   "source": [
    "import numpy as np\n",
    "import pandas as pd"
   ]
  },
  {
   "cell_type": "code",
   "execution_count": 8,
   "id": "0dafcb02-3889-4f64-a8c7-cb5492ae5bbf",
   "metadata": {},
   "outputs": [
    {
     "name": "stdout",
     "output_type": "stream",
     "text": [
      "   Unnamed: 0            timestamp  meter_reading  air_temperature  \\\n",
      "0         704  2016-01-30 08:00:00        43.6839              8.3   \n",
      "1         725  2016-01-31 05:00:00        37.5408             12.8   \n",
      "2         737  2016-01-31 17:00:00        52.5571             20.6   \n",
      "3        2366  2016-04-08 14:00:00        59.3827             21.7   \n",
      "4        2923  2016-05-01 19:00:00       448.0000             31.1   \n",
      "\n",
      "   cloud_coverage  dew_temperature  precip_depth_1_hr  sea_level_pressure  \\\n",
      "0             0.0              6.1                0.0              1019.0   \n",
      "1             0.0             10.0                0.0              1021.9   \n",
      "2             0.0             11.7                0.0              1020.9   \n",
      "3             2.0             14.4                0.0              1015.1   \n",
      "4             0.0             17.2                0.0              1016.1   \n",
      "\n",
      "   wind_speed  wind_direction_sin  wind_direction_cos  air_temperature1  \n",
      "0         2.1           -0.642788           -0.766044              -2.3  \n",
      "1         0.0            0.000000            1.000000              -1.1  \n",
      "2         1.5            0.939693           -0.342020               1.7  \n",
      "3         3.1           -0.939693           -0.342020               2.8  \n",
      "4         4.1            0.984808           -0.173648               1.1  \n"
     ]
    }
   ],
   "source": [
    "data = pd.read_csv('energy_1.csv')\n",
    "print(data.head())"
   ]
  },
  {
   "cell_type": "markdown",
   "id": "3d390ca8-f01f-4cfa-90ce-9b5240514b0f",
   "metadata": {},
   "source": [
    "### выделяем час"
   ]
  },
  {
   "cell_type": "code",
   "execution_count": 9,
   "id": "f62a8964-1e90-4ff8-bb71-e3d9c651439c",
   "metadata": {},
   "outputs": [],
   "source": [
    "data['timestamp'] = pd.to_datetime(data['timestamp'])\n",
    "data['hour'] = data['timestamp'].dt.hour"
   ]
  },
  {
   "cell_type": "code",
   "execution_count": 10,
   "id": "0d8996df-09fd-4a62-85a5-94518e59f449",
   "metadata": {},
   "outputs": [],
   "source": [
    "data.to_csv('energy_2.csv', index=False)"
   ]
  },
  {
   "cell_type": "markdown",
   "id": "8a8bf215-7b28-45d9-9bcb-0a4d514e49bd",
   "metadata": {},
   "source": [
    "Вычисление среднеквадратичного(стандартного) отклонения для всего массива"
   ]
  },
  {
   "cell_type": "code",
   "execution_count": 11,
   "id": "52a0de85-2b86-45e1-8318-32f1c69b8c0e",
   "metadata": {},
   "outputs": [
    {
     "name": "stdout",
     "output_type": "stream",
     "text": [
      "49.13\n"
     ]
    }
   ],
   "source": [
    "sqt = np.std(data['meter_reading'])\n",
    "print('{0:.4}'.format(sqt))"
   ]
  },
  {
   "cell_type": "markdown",
   "id": "2fa25a17-4fa8-4a7a-9e2b-b07f302f5f81",
   "metadata": {},
   "source": [
    "### Построение базовой модели\n",
    "среднее и его ошибка"
   ]
  },
  {
   "cell_type": "code",
   "execution_count": 12,
   "id": "26f2fa37-fa69-4d76-bf21-c308e484b19b",
   "metadata": {},
   "outputs": [
    {
     "name": "stdout",
     "output_type": "stream",
     "text": [
      "Модель: 237.7 ошибка модели: 15.17% ошибка данных: 20.66%\n"
     ]
    }
   ],
   "source": [
    "model=float(data['meter_reading'].mean())\n",
    "err = np.mean(abs(data['meter_reading']-model))\n",
    "print('Модель: {0:.4}'.format(model),\n",
    "     'ошибка модели: {0:.4}%'.format(100*err/model),\n",
    "      'ошибка данных: {0:.4}%'.format(100*sqt/model))"
   ]
  },
  {
   "cell_type": "markdown",
   "id": "f2704efd-edab-4ef7-b529-a8a103517bbb",
   "metadata": {},
   "source": [
    "### Модель по первому часу"
   ]
  },
  {
   "cell_type": "markdown",
   "id": "6b8a07ad-75e7-42c0-b06f-2b79c95a3535",
   "metadata": {},
   "source": [
    "строим модель первого часа и сравниваем ее точность с базовой моделью"
   ]
  },
  {
   "cell_type": "code",
   "execution_count": 26,
   "id": "ae7957fd-5341-44cf-ae8c-4ceb8bf3f40a",
   "metadata": {},
   "outputs": [
    {
     "name": "stdout",
     "output_type": "stream",
     "text": [
      "Модель: 238.7 Ошибка модели по 0у часу: 13.63% Ошибка базовоймодели: 15.17%\n"
     ]
    }
   ],
   "source": [
    "model0 = float(data0['meter_reading'].mean())\n",
    "err0 = np.mean(abs(data0['meter_reading'] - model0))\n",
    "print('Модель: {0:.4}'.format(model0),\n",
    "      'Ошибка модели по 0у часу: {0:.4}%'.format(100*err0/model0),\n",
    "      'Ошибка базовоймодели: {0:.4}%'.format(100*err/model))"
   ]
  },
  {
   "cell_type": "markdown",
   "id": "f1258ace-263f-4c3e-bcc3-556fee4754a1",
   "metadata": {},
   "source": [
    "## Создаем 24 часовых модели"
   ]
  },
  {
   "cell_type": "code",
   "execution_count": 18,
   "id": "dd5d0c98-91e2-4301-86f6-71437a78aa7b",
   "metadata": {},
   "outputs": [
    {
     "name": "stdout",
     "output_type": "stream",
     "text": [
      "Модель: 239.2 Ошибка модели по 1 -у часу: 13.95%\n",
      "Модель: 239.7 Ошибка модели по 2 -у часу: 14.16%\n",
      "Модель: 240.2 Ошибка модели по 3 -у часу: 13.7%\n",
      "Модель: 239.3 Ошибка модели по 4 -у часу: 13.55%\n",
      "Модель: 238.1 Ошибка модели по 5 -у часу: 13.92%\n",
      "Модель: 237.5 Ошибка модели по 6 -у часу: 13.1%\n",
      "Модель: 240.9 Ошибка модели по 7 -у часу: 13.44%\n",
      "Модель: 242.7 Ошибка модели по 8 -у часу: 15.5%\n",
      "Модель: 235.5 Ошибка модели по 9 -у часу: 15.23%\n",
      "Модель: 235.0 Ошибка модели по 10 -у часу: 16.19%\n",
      "Модель: 234.7 Ошибка модели по 11 -у часу: 17.5%\n",
      "Модель: 235.4 Ошибка модели по 12 -у часу: 17.72%\n",
      "Модель: 237.1 Ошибка модели по 13 -у часу: 17.54%\n",
      "Модель: 236.5 Ошибка модели по 14 -у часу: 18.01%\n",
      "Модель: 237.0 Ошибка модели по 15 -у часу: 17.51%\n",
      "Модель: 237.0 Ошибка модели по 16 -у часу: 17.21%\n",
      "Модель: 234.8 Ошибка модели по 17 -у часу: 17.07%\n",
      "Модель: 236.7 Ошибка модели по 18 -у часу: 14.94%\n",
      "Модель: 237.8 Ошибка модели по 19 -у часу: 14.14%\n",
      "Модель: 237.2 Ошибка модели по 20 -у часу: 13.67%\n",
      "Модель: 237.3 Ошибка модели по 21 -у часу: 14.21%\n",
      "Модель: 238.3 Ошибка модели по 22 -у часу: 14.58%\n",
      "Модель: 239.4 Ошибка модели по 23 -у часу: 14.24%\n",
      "Модель: nan Ошибка модели по 24 -у часу: nan%\n"
     ]
    }
   ],
   "source": [
    "for i in range(1,25):\n",
    "    datah = data.loc[data['hour']== i]\n",
    "    modelh = float(datah['meter_reading'].mean())\n",
    "    errh = np.mean(abs(datah['meter_reading'] - modelh))\n",
    "    print('Модель: {0:.4}'.format(modelh),\n",
    "          'Ошибка модели по', i,'-у часу: {0:.4}%'.format(100*errh/modelh))"
   ]
  },
  {
   "cell_type": "code",
   "execution_count": null,
   "id": "a79d057d-6395-4c29-b12d-cd6304047465",
   "metadata": {},
   "outputs": [],
   "source": []
  }
 ],
 "metadata": {
  "kernelspec": {
   "display_name": "Python 3 (ipykernel)",
   "language": "python",
   "name": "python3"
  },
  "language_info": {
   "codemirror_mode": {
    "name": "ipython",
    "version": 3
   },
   "file_extension": ".py",
   "mimetype": "text/x-python",
   "name": "python",
   "nbconvert_exporter": "python",
   "pygments_lexer": "ipython3",
   "version": "3.9.7"
  }
 },
 "nbformat": 4,
 "nbformat_minor": 5
}
