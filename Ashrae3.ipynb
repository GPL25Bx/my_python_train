{
 "cells": [
  {
   "cell_type": "markdown",
   "id": "a5355b5e",
   "metadata": {},
   "source": [
    "- http://video.ittensive.com/machine-learning/ashrae/building_metadata.csv.gz\n",
    "- http://video.ittensive.com/machine-learning/ashrae/weather_train.csv.gz\n",
    "- http://video.ittensive.com/machine-learning/ashrae/train.0.0.csv.gz"
   ]
  },
  {
   "cell_type": "markdown",
   "id": "ef6e9354",
   "metadata": {},
   "source": [
    "# Практикум по ETL"
   ]
  },
  {
   "cell_type": "code",
   "execution_count": 1,
   "id": "b96cc884",
   "metadata": {},
   "outputs": [],
   "source": [
    "import numpy as np\n",
    "import pandas as pd"
   ]
  },
  {
   "cell_type": "markdown",
   "id": "e8577092",
   "metadata": {},
   "source": [
    "### Загрузка данных. Здания \n",
    "- primary_use - назначение\n",
    "- square_feet - площадь, кв. футы\n",
    "- year_built - год постройки\n",
    "- floor_count - число этажей"
   ]
  },
  {
   "cell_type": "code",
   "execution_count": 2,
   "id": "5a6ba792",
   "metadata": {},
   "outputs": [
    {
     "name": "stdout",
     "output_type": "stream",
     "text": [
      "   site_id  building_id primary_use  square_feet  year_built  floor_count\n",
      "0        0            0   Education         7432      2008.0          NaN\n",
      "1        0            1   Education         2720      2004.0          NaN\n",
      "2        0            2   Education         5376      1991.0          NaN\n",
      "3        0            3   Education        23685      2002.0          NaN\n",
      "4        0            4   Education       116607      1975.0          NaN\n"
     ]
    }
   ],
   "source": [
    "buildings = pd.read_csv('http://video.ittensive.com/machine-learning/ashrae/building_metadata.csv.gz')\n",
    "print(buildings.head())"
   ]
  },
  {
   "cell_type": "markdown",
   "id": "c2aacf0a",
   "metadata": {},
   "source": [
    "### Загрузка данных. Погода\n",
    "- air_temperature - температура выоздуха (С)\n",
    "- dew_temperature - точка россы(влажность)(С)\n",
    "- cloud_coverage - облачность %\n",
    "- precip_depth_1_hr - осадки мм/час\n",
    "- sea_level_pressure - давление, мбар\n",
    "- wind_derection - наравление ветра. град.\n",
    "- wind_speed - сила ветра, м/с"
   ]
  },
  {
   "cell_type": "code",
   "execution_count": 3,
   "id": "23ce57aa",
   "metadata": {},
   "outputs": [
    {
     "name": "stdout",
     "output_type": "stream",
     "text": [
      "   site_id            timestamp  air_temperature  cloud_coverage  \\\n",
      "0        0  2016-01-01 00:00:00             25.0             6.0   \n",
      "1        0  2016-01-01 01:00:00             24.4             NaN   \n",
      "2        0  2016-01-01 02:00:00             22.8             2.0   \n",
      "3        0  2016-01-01 03:00:00             21.1             2.0   \n",
      "4        0  2016-01-01 04:00:00             20.0             2.0   \n",
      "\n",
      "   dew_temperature  precip_depth_1_hr  sea_level_pressure  wind_direction  \\\n",
      "0             20.0                NaN              1019.7             0.0   \n",
      "1             21.1               -1.0              1020.2            70.0   \n",
      "2             21.1                0.0              1020.2             0.0   \n",
      "3             20.6                0.0              1020.1             0.0   \n",
      "4             20.0               -1.0              1020.0           250.0   \n",
      "\n",
      "   wind_speed  \n",
      "0         0.0  \n",
      "1         1.5  \n",
      "2         0.0  \n",
      "3         0.0  \n",
      "4         2.6  \n"
     ]
    }
   ],
   "source": [
    "weather = pd.read_csv('http://video.ittensive.com/machine-learning/ashrae/weather_train.csv.gz')\n",
    "print(weather.head())"
   ]
  },
  {
   "cell_type": "markdown",
   "id": "fa00cdd0",
   "metadata": {},
   "source": [
    "### Загрузка данных. Потребление энегрии здания 0\n",
    "- meter_reading - значение показателя (TOE - эквивалент тонн нефти)"
   ]
  },
  {
   "cell_type": "code",
   "execution_count": 4,
   "id": "7582433d",
   "metadata": {},
   "outputs": [
    {
     "name": "stdout",
     "output_type": "stream",
     "text": [
      "   building_id  meter            timestamp  meter_reading\n",
      "0            0      0  2016-01-01 00:00:00            0.0\n",
      "1            0      0  2016-01-01 01:00:00            0.0\n",
      "2            0      0  2016-01-01 02:00:00            0.0\n",
      "3            0      0  2016-01-01 03:00:00            0.0\n",
      "4            0      0  2016-01-01 04:00:00            0.0\n"
     ]
    }
   ],
   "source": [
    "energy_0 = pd.read_csv('http://video.ittensive.com/machine-learning/ashrae/train.0.0.csv.gz')\n",
    "print(energy_0.head())"
   ]
  },
  {
   "cell_type": "markdown",
   "id": "4523ff57",
   "metadata": {},
   "source": [
    "## Объединение данных:\n",
    "### Потребление энергии и информации о здании\n",
    "- объеденим по build_id"
   ]
  },
  {
   "cell_type": "code",
   "execution_count": 5,
   "id": "60a0c3c9",
   "metadata": {},
   "outputs": [
    {
     "name": "stdout",
     "output_type": "stream",
     "text": [
      "   building_id  meter            timestamp  meter_reading  site_id  \\\n",
      "0            0      0  2016-01-01 00:00:00            0.0        0   \n",
      "1            0      0  2016-01-01 01:00:00            0.0        0   \n",
      "2            0      0  2016-01-01 02:00:00            0.0        0   \n",
      "3            0      0  2016-01-01 03:00:00            0.0        0   \n",
      "4            0      0  2016-01-01 04:00:00            0.0        0   \n",
      "\n",
      "  primary_use  square_feet  year_built  floor_count  \n",
      "0   Education         7432      2008.0          NaN  \n",
      "1   Education         7432      2008.0          NaN  \n",
      "2   Education         7432      2008.0          NaN  \n",
      "3   Education         7432      2008.0          NaN  \n",
      "4   Education         7432      2008.0          NaN  \n"
     ]
    }
   ],
   "source": [
    "energy_0 = pd.merge(left=energy_0, right=buildings, how=\"left\",\n",
    "                   left_on=\"building_id\", right_on=\"building_id\")\n",
    "print(energy_0.head())"
   ]
  },
  {
   "cell_type": "markdown",
   "id": "47677d31",
   "metadata": {},
   "source": [
    "### потребление энергии и погоды\n",
    "- Выставим индексы для объединения - timestamp, site_id"
   ]
  },
  {
   "cell_type": "code",
   "execution_count": 6,
   "id": "fb44b730",
   "metadata": {},
   "outputs": [],
   "source": [
    "energy_0.set_index(['timestamp', 'site_id'], inplace=True)\n",
    "weather.set_index(['timestamp', 'site_id'], inplace=True)"
   ]
  },
  {
   "cell_type": "markdown",
   "id": "29f5c2ae",
   "metadata": {},
   "source": [
    "- проведем объеденинеи сбросим индексы"
   ]
  },
  {
   "cell_type": "code",
   "execution_count": 7,
   "id": "9799b984",
   "metadata": {},
   "outputs": [
    {
     "name": "stdout",
     "output_type": "stream",
     "text": [
      "             timestamp  site_id  building_id  meter  meter_reading  \\\n",
      "0  2016-01-01 00:00:00        0            0      0            0.0   \n",
      "1  2016-01-01 01:00:00        0            0      0            0.0   \n",
      "2  2016-01-01 02:00:00        0            0      0            0.0   \n",
      "3  2016-01-01 03:00:00        0            0      0            0.0   \n",
      "4  2016-01-01 04:00:00        0            0      0            0.0   \n",
      "\n",
      "  primary_use  square_feet  year_built  floor_count  air_temperature  \\\n",
      "0   Education         7432      2008.0          NaN             25.0   \n",
      "1   Education         7432      2008.0          NaN             24.4   \n",
      "2   Education         7432      2008.0          NaN             22.8   \n",
      "3   Education         7432      2008.0          NaN             21.1   \n",
      "4   Education         7432      2008.0          NaN             20.0   \n",
      "\n",
      "   cloud_coverage  dew_temperature  precip_depth_1_hr  sea_level_pressure  \\\n",
      "0             6.0             20.0                NaN              1019.7   \n",
      "1             NaN             21.1               -1.0              1020.2   \n",
      "2             2.0             21.1                0.0              1020.2   \n",
      "3             2.0             20.6                0.0              1020.1   \n",
      "4             2.0             20.0               -1.0              1020.0   \n",
      "\n",
      "   wind_direction  wind_speed  \n",
      "0             0.0         0.0  \n",
      "1            70.0         1.5  \n",
      "2             0.0         0.0  \n",
      "3             0.0         0.0  \n",
      "4           250.0         2.6  \n"
     ]
    }
   ],
   "source": [
    "energy_0 = pd.merge(left=energy_0, right=weather, how=\"left\",\n",
    "                   left_index=True, right_index=True)\n",
    "energy_0.reset_index(inplace=True)\n",
    "print(energy_0.head())"
   ]
  },
  {
   "cell_type": "markdown",
   "id": "053a7a36",
   "metadata": {},
   "source": [
    "## Заполнение пропущенных данных\n",
    "- air_temperature: NaN -> 0\n",
    "- cloud_coverage: Nan -> 0\n",
    "- dew_temperature:NaN -> 0\n",
    "- precip_depth_1_hr: NaN -> 0, -1 -> 0\n",
    "- sea_level_pressure: NaN -> среднее\n",
    "- wind_direction: NaN -> среднее"
   ]
  },
  {
   "cell_type": "code",
   "execution_count": 8,
   "id": "e4b2196d",
   "metadata": {},
   "outputs": [
    {
     "name": "stdout",
     "output_type": "stream",
     "text": [
      "<class 'pandas.core.frame.DataFrame'>\n",
      "RangeIndex: 8784 entries, 0 to 8783\n",
      "Data columns (total 16 columns):\n",
      " #   Column              Non-Null Count  Dtype  \n",
      "---  ------              --------------  -----  \n",
      " 0   timestamp           8784 non-null   object \n",
      " 1   site_id             8784 non-null   int64  \n",
      " 2   building_id         8784 non-null   int64  \n",
      " 3   meter               8784 non-null   int64  \n",
      " 4   meter_reading       8784 non-null   float64\n",
      " 5   primary_use         8784 non-null   object \n",
      " 6   square_feet         8784 non-null   int64  \n",
      " 7   year_built          8784 non-null   float64\n",
      " 8   floor_count         0 non-null      float64\n",
      " 9   air_temperature     8784 non-null   float64\n",
      " 10  cloud_coverage      8784 non-null   float64\n",
      " 11  dew_temperature     8784 non-null   float64\n",
      " 12  precip_depth_1_hr   8784 non-null   float64\n",
      " 13  sea_level_pressure  8784 non-null   float64\n",
      " 14  wind_direction      8784 non-null   float64\n",
      " 15  wind_speed          8784 non-null   float64\n",
      "dtypes: float64(10), int64(4), object(2)\n",
      "memory usage: 1.1+ MB\n"
     ]
    }
   ],
   "source": [
    "energy_0[\"air_temperature\"].fillna(0, inplace=True)\n",
    "energy_0[\"cloud_coverage\"].fillna(0, inplace=True)\n",
    "energy_0[\"dew_temperature\"].fillna(0, inplace=True)\n",
    "energy_0[\"precip_depth_1_hr\"] = energy_0[\"precip_depth_1_hr\"].apply(lambda x:x if x>0 else 0)\n",
    "energy_0_pressure_mean = energy_0[\"sea_level_pressure\"].mean()\n",
    "energy_0[\"sea_level_pressure\"] = energy_0[\"sea_level_pressure\"].apply(lambda x:energy_0_pressure_mean if x!=x else x)\n",
    "energy_0_wind_direction = energy_0[\"wind_direction\"].mean()\n",
    "energy_0[\"wind_direction\"]= energy_0[\"wind_direction\"].apply(lambda x:energy_0_wind_direction if x!=x else x)\n",
    "energy_0.info()"
   ]
  },
  {
   "cell_type": "markdown",
   "id": "80f41236",
   "metadata": {},
   "source": [
    "### сохранение результата\n",
    "- записаваем результат ETL в CSV файл"
   ]
  },
  {
   "cell_type": "code",
   "execution_count": 9,
   "id": "7b0b6baa",
   "metadata": {},
   "outputs": [],
   "source": [
    "energy_0.to_csv('energy_0.csv', index=True)"
   ]
  },
  {
   "cell_type": "code",
   "execution_count": null,
   "id": "4b7c293a-b833-4040-bea4-7440abd53f8d",
   "metadata": {},
   "outputs": [],
   "source": []
  }
 ],
 "metadata": {
  "kernelspec": {
   "display_name": "Python 3 (ipykernel)",
   "language": "python",
   "name": "python3"
  },
  "language_info": {
   "codemirror_mode": {
    "name": "ipython",
    "version": 3
   },
   "file_extension": ".py",
   "mimetype": "text/x-python",
   "name": "python",
   "nbconvert_exporter": "python",
   "pygments_lexer": "ipython3",
   "version": "3.9.7"
  }
 },
 "nbformat": 4,
 "nbformat_minor": 5
}
