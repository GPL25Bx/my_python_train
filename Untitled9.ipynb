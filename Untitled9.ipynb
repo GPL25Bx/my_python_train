{
 "cells": [
  {
   "cell_type": "code",
   "execution_count": null,
   "id": "23d00e46",
   "metadata": {},
   "outputs": [],
   "source": [
    "def in7(a):\n",
    "    n = ''\n",
    "    k = ''\n",
    "    while a > 0:\n",
    "        n = n + str(a % 7)\n",
    "        a = a // 7\n",
    "    n =  list(reversed(n))\n",
    "    for j in range(len(n)):\n",
    "        k += n[j]\n",
    "    return k "
   ]
  },
  {
   "cell_type": "code",
   "execution_count": null,
   "id": "187785be",
   "metadata": {},
   "outputs": [],
   "source": [
    "in7(3)"
   ]
  },
  {
   "cell_type": "code",
   "execution_count": null,
   "id": "cffd2289",
   "metadata": {},
   "outputs": [],
   "source": [
    "19"
   ]
  },
  {
   "cell_type": "code",
   "execution_count": null,
   "id": "0648df47",
   "metadata": {},
   "outputs": [],
   "source": []
  }
 ],
 "metadata": {
  "kernelspec": {
   "display_name": "Python 3 (ipykernel)",
   "language": "python",
   "name": "python3"
  },
  "language_info": {
   "codemirror_mode": {
    "name": "ipython",
    "version": 3
   },
   "file_extension": ".py",
   "mimetype": "text/x-python",
   "name": "python",
   "nbconvert_exporter": "python",
   "pygments_lexer": "ipython3",
   "version": "3.9.7"
  }
 },
 "nbformat": 4,
 "nbformat_minor": 5
}
