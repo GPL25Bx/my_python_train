{
 "cells": [
  {
   "cell_type": "code",
   "execution_count": 87,
   "id": "742b9ecf",
   "metadata": {},
   "outputs": [
    {
     "name": "stdout",
     "output_type": "stream",
     "text": [
      "['mix extra  x-files xyz xapple apple\n"
     ]
    },
    {
     "name": "stderr",
     "output_type": "stream",
     "text": [
      "C:\\Users\\USER\\AppData\\Local\\Temp/ipykernel_8576/1130584088.py:3: FutureWarning: Possible nested set at position 1\n",
      "  s1 = re.sub(\"[['|']]\", \"\", s)\n"
     ]
    }
   ],
   "source": [
    "s = \"['mix', 'extra', '', 'x-files', 'xyz', 'xapple', 'apple']\".replace(\"', '\", \" \")\n",
    "import re\n",
    "s1 = re.sub(\"[['|']]\", \"\", s)\n",
    "print(s1)"
   ]
  },
  {
   "cell_type": "code",
   "execution_count": 89,
   "id": "a939a30d",
   "metadata": {},
   "outputs": [
    {
     "name": "stdout",
     "output_type": "stream",
     "text": [
      "[\"['mix\", 'extra', 'x-files', 'xyz', 'xapple', \"apple']\"]\n"
     ]
    }
   ],
   "source": [
    "L = s.split()\n",
    "print(L)"
   ]
  },
  {
   "cell_type": "code",
   "execution_count": null,
   "id": "b17966b0",
   "metadata": {},
   "outputs": [],
   "source": []
  },
  {
   "cell_type": "code",
   "execution_count": null,
   "id": "fe84ba08",
   "metadata": {},
   "outputs": [],
   "source": []
  },
  {
   "cell_type": "code",
   "execution_count": null,
   "id": "7c0563db",
   "metadata": {},
   "outputs": [],
   "source": []
  }
 ],
 "metadata": {
  "kernelspec": {
   "display_name": "Python 3 (ipykernel)",
   "language": "python",
   "name": "python3"
  },
  "language_info": {
   "codemirror_mode": {
    "name": "ipython",
    "version": 3
   },
   "file_extension": ".py",
   "mimetype": "text/x-python",
   "name": "python",
   "nbconvert_exporter": "python",
   "pygments_lexer": "ipython3",
   "version": "3.9.7"
  }
 },
 "nbformat": 4,
 "nbformat_minor": 5
}
