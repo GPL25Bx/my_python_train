{
 "cells": [
  {
   "cell_type": "code",
   "execution_count": 4,
   "id": "6659809c",
   "metadata": {},
   "outputs": [
    {
     "name": "stdout",
     "output_type": "stream",
     "text": [
      "git fetch origin\n",
      "tmp/git.log\n"
     ]
    }
   ],
   "source": [
    "import os.path\n",
    "event = str(input())\n",
    "file_name = input()\n",
    "if os.path.isfile(file_name):\n",
    "    with open(file_name, 'a', encoding = 'utf-8') as f:\n",
    "        f.write('\\n')\n",
    "        f.write(event)\n",
    "   \n",
    "       "
   ]
  },
  {
   "cell_type": "code",
   "execution_count": 6,
   "id": "c74d94d4",
   "metadata": {},
   "outputs": [
    {
     "name": "stdout",
     "output_type": "stream",
     "text": [
      "\n",
      "git fetch origin\n",
      "git fetch origin\n",
      "git fetch origin\n"
     ]
    }
   ],
   "source": [
    "with open(file_name, 'r', encoding = 'utf-8') as f:\n",
    "    b=f.read()\n",
    "    print(b)\n",
    "       "
   ]
  },
  {
   "cell_type": "code",
   "execution_count": null,
   "id": "d1372665",
   "metadata": {},
   "outputs": [],
   "source": []
  }
 ],
 "metadata": {
  "kernelspec": {
   "display_name": "Python 3 (ipykernel)",
   "language": "python",
   "name": "python3"
  },
  "language_info": {
   "codemirror_mode": {
    "name": "ipython",
    "version": 3
   },
   "file_extension": ".py",
   "mimetype": "text/x-python",
   "name": "python",
   "nbconvert_exporter": "python",
   "pygments_lexer": "ipython3",
   "version": "3.9.7"
  }
 },
 "nbformat": 4,
 "nbformat_minor": 5
}
