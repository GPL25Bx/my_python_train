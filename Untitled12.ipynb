{
 "cells": [
  {
   "cell_type": "code",
   "execution_count": null,
   "id": "b50a5b4f",
   "metadata": {},
   "outputs": [],
   "source": [
    "import os.path\n",
    "e = str(input())\n",
    "fn = str(input())\n",
    "\n",
    "if os.path.isfile(file_name):\n",
    "    with open(file_name, 'a', encoding = 'utf-8') as f:\n",
    "        f.write('\\n')\n",
    "        f.write(event)\n",
    "        \n",
    "   \n",
    "        "
   ]
  }
 ],
 "metadata": {
  "kernelspec": {
   "display_name": "Python 3 (ipykernel)",
   "language": "python",
   "name": "python3"
  },
  "language_info": {
   "codemirror_mode": {
    "name": "ipython",
    "version": 3
   },
   "file_extension": ".py",
   "mimetype": "text/x-python",
   "name": "python",
   "nbconvert_exporter": "python",
   "pygments_lexer": "ipython3",
   "version": "3.9.7"
  }
 },
 "nbformat": 4,
 "nbformat_minor": 5
}
