{
 "cells": [
  {
   "cell_type": "code",
   "execution_count": 52,
   "id": "8879ab71",
   "metadata": {},
   "outputs": [],
   "source": [
    "L = [1, 2, '3', '4', '5', 6]\n",
    "L1 = []\n",
    "def convert(L):\n",
    "    for i in L:\n",
    "        if type(i)==str:\n",
    "            i=int(i)\n",
    "    return L1            "
   ]
  },
  {
   "cell_type": "code",
   "execution_count": 53,
   "id": "2e5fee80",
   "metadata": {},
   "outputs": [
    {
     "data": {
      "text/plain": [
       "[1, 2, '3', '4', '5', 6]"
      ]
     },
     "execution_count": 53,
     "metadata": {},
     "output_type": "execute_result"
    }
   ],
   "source": [
    "convert(L)"
   ]
  },
  {
   "cell_type": "code",
   "execution_count": null,
   "id": "38f90d33",
   "metadata": {},
   "outputs": [],
   "source": []
  }
 ],
 "metadata": {
  "kernelspec": {
   "display_name": "Python 3 (ipykernel)",
   "language": "python",
   "name": "python3"
  },
  "language_info": {
   "codemirror_mode": {
    "name": "ipython",
    "version": 3
   },
   "file_extension": ".py",
   "mimetype": "text/x-python",
   "name": "python",
   "nbconvert_exporter": "python",
   "pygments_lexer": "ipython3",
   "version": "3.9.7"
  }
 },
 "nbformat": 4,
 "nbformat_minor": 5
}
