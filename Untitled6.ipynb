{
 "cells": [
  {
   "cell_type": "code",
   "execution_count": 1,
   "id": "4b4181f4",
   "metadata": {},
   "outputs": [],
   "source": [
    "L = [1, 2, '3', '4', '5', 6]\n",
    "def convert(L):\n",
    "    L = [int(i) for i in L]\n",
    "    return L"
   ]
  },
  {
   "cell_type": "code",
   "execution_count": 2,
   "id": "6f48ed1d",
   "metadata": {},
   "outputs": [
    {
     "data": {
      "text/plain": [
       "[1, 2, 3, 4, 5, 6]"
      ]
     },
     "execution_count": 2,
     "metadata": {},
     "output_type": "execute_result"
    }
   ],
   "source": [
    "convert(L)\n"
   ]
  },
  {
   "cell_type": "code",
   "execution_count": 3,
   "id": "a5056794",
   "metadata": {},
   "outputs": [
    {
     "data": {
      "text/plain": [
       "[1, 2, 3, 4, 5, 6]"
      ]
     },
     "execution_count": 3,
     "metadata": {},
     "output_type": "execute_result"
    }
   ],
   "source": [
    "convert(L)"
   ]
  },
  {
   "cell_type": "code",
   "execution_count": 4,
   "id": "21df0221",
   "metadata": {},
   "outputs": [
    {
     "data": {
      "text/plain": [
       "[1, 2, 3, 4, 5, 6]"
      ]
     },
     "execution_count": 4,
     "metadata": {},
     "output_type": "execute_result"
    }
   ],
   "source": [
    "convert(L)"
   ]
  },
  {
   "cell_type": "code",
   "execution_count": null,
   "id": "3eefb146",
   "metadata": {},
   "outputs": [],
   "source": []
  }
 ],
 "metadata": {
  "kernelspec": {
   "display_name": "Python 3 (ipykernel)",
   "language": "python",
   "name": "python3"
  },
  "language_info": {
   "codemirror_mode": {
    "name": "ipython",
    "version": 3
   },
   "file_extension": ".py",
   "mimetype": "text/x-python",
   "name": "python",
   "nbconvert_exporter": "python",
   "pygments_lexer": "ipython3",
   "version": "3.9.7"
  }
 },
 "nbformat": 4,
 "nbformat_minor": 5
}
