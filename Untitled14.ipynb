{
 "cells": [
  {
   "cell_type": "code",
   "execution_count": 11,
   "id": "5fd475e9",
   "metadata": {},
   "outputs": [],
   "source": [
    "#D://Python/machine_learning/01/demo13.xls\n",
    "import pandas as pd\n",
    "import numpy as np"
   ]
  },
  {
   "cell_type": "markdown",
   "id": "4a6d22b6",
   "metadata": {},
   "source": [
    "Получаем XLS файл"
   ]
  },
  {
   "cell_type": "code",
   "execution_count": 12,
   "id": "0213d87f",
   "metadata": {},
   "outputs": [],
   "source": [
    "xls = pd.ExcelFile('D://Python/machine_learning/01/demo13.xls')"
   ]
  },
  {
   "cell_type": "markdown",
   "id": "d699c6e0",
   "metadata": {},
   "source": [
    "Получаем 1 лист XLS файла"
   ]
  },
  {
   "cell_type": "code",
   "execution_count": 13,
   "id": "b2bfc215",
   "metadata": {},
   "outputs": [],
   "source": [
    "sheet = xls.parse(0)"
   ]
  },
  {
   "cell_type": "markdown",
   "id": "6be4cdcb",
   "metadata": {},
   "source": [
    "1. Выбираем 3 столбец(Unnamed 2);\n",
    "2. Берем строки с 6 по 34;\n",
    "3. Сбрасываем индекс\n",
    "4. Выбираем только нужный столбец;\n",
    "5. Преобразуем серию данных(\"Мужчины\")во фрейм"
   ]
  },
  {
   "cell_type": "code",
   "execution_count": 16,
   "id": "b88da374",
   "metadata": {},
   "outputs": [],
   "source": [
    "\n",
    "data = pd.DataFrame({\"Мужчины\": sheet['Unnamed: 2'][6:34].reset_index()['Unnamed: 2']})"
   ]
  },
  {
   "cell_type": "code",
   "execution_count": 17,
   "id": "8bac90ba",
   "metadata": {},
   "outputs": [
    {
     "data": {
      "text/html": [
       "<div>\n",
       "<style scoped>\n",
       "    .dataframe tbody tr th:only-of-type {\n",
       "        vertical-align: middle;\n",
       "    }\n",
       "\n",
       "    .dataframe tbody tr th {\n",
       "        vertical-align: top;\n",
       "    }\n",
       "\n",
       "    .dataframe thead th {\n",
       "        text-align: right;\n",
       "    }\n",
       "</style>\n",
       "<table border=\"1\" class=\"dataframe\">\n",
       "  <thead>\n",
       "    <tr style=\"text-align: right;\">\n",
       "      <th></th>\n",
       "      <th>Мужчины</th>\n",
       "    </tr>\n",
       "  </thead>\n",
       "  <tbody>\n",
       "    <tr>\n",
       "      <th>0</th>\n",
       "      <td>44</td>\n",
       "    </tr>\n",
       "    <tr>\n",
       "      <th>1</th>\n",
       "      <td>51.1</td>\n",
       "    </tr>\n",
       "    <tr>\n",
       "      <th>2</th>\n",
       "      <td>52.2</td>\n",
       "    </tr>\n",
       "    <tr>\n",
       "      <th>3</th>\n",
       "      <td>59.1</td>\n",
       "    </tr>\n",
       "    <tr>\n",
       "      <th>4</th>\n",
       "      <td>63.2</td>\n",
       "    </tr>\n",
       "  </tbody>\n",
       "</table>\n",
       "</div>"
      ],
      "text/plain": [
       "  Мужчины\n",
       "0      44\n",
       "1    51.1\n",
       "2    52.2\n",
       "3    59.1\n",
       "4    63.2"
      ]
     },
     "execution_count": 17,
     "metadata": {},
     "output_type": "execute_result"
    }
   ],
   "source": [
    "data.head()"
   ]
  },
  {
   "cell_type": "markdown",
   "id": "de105e63",
   "metadata": {},
   "source": [
    "# Построение и обучение модели"
   ]
  },
  {
   "cell_type": "markdown",
   "id": "cd6716f7",
   "metadata": {},
   "source": [
    "Возьмем среднее как самую простую модель"
   ]
  },
  {
   "cell_type": "code",
   "execution_count": 20,
   "id": "821c1fbf",
   "metadata": {},
   "outputs": [
    {
     "name": "stdout",
     "output_type": "stream",
     "text": [
      "64.92\n"
     ]
    }
   ],
   "source": [
    "model = float(data.mean())\n",
    "print('{0:.4}' .format(model))"
   ]
  },
  {
   "cell_type": "markdown",
   "id": "8a6af192",
   "metadata": {},
   "source": [
    "# Вычисление точности модели\n",
    "расчитаем ошибку по тестовым данным"
   ]
  },
  {
   "cell_type": "code",
   "execution_count": 21,
   "id": "da00f8ce",
   "metadata": {},
   "outputs": [
    {
     "name": "stdout",
     "output_type": "stream",
     "text": [
      "6.05%\n"
     ]
    }
   ],
   "source": [
    "err = np.abs(data - model).mean()\n",
    "print('{0:.3}%' .format(float(100*err/model)))"
   ]
  },
  {
   "cell_type": "markdown",
   "id": "79bb97a7",
   "metadata": {},
   "source": [
    "# Применение модели\n",
    "Сравним численность мужского населения с моделью"
   ]
  },
  {
   "cell_type": "code",
   "execution_count": 23,
   "id": "851ca93c",
   "metadata": {},
   "outputs": [
    {
     "name": "stdout",
     "output_type": "stream",
     "text": [
      "4.31%\n"
     ]
    }
   ],
   "source": [
    "# 2021 - 67,85 млн\n",
    "result = 67.85\n",
    "print('{0:.3}%'.format(100*(result-model)/result))"
   ]
  },
  {
   "cell_type": "code",
   "execution_count": 26,
   "id": "b517046c",
   "metadata": {},
   "outputs": [],
   "source": [
    "dataW = pd.DataFrame({\"Женщины\": sheet['Unnamed: 3'][6:34].reset_index()['Unnamed: 3']})"
   ]
  },
  {
   "cell_type": "code",
   "execution_count": 27,
   "id": "d49f2411",
   "metadata": {},
   "outputs": [
    {
     "data": {
      "text/html": [
       "<div>\n",
       "<style scoped>\n",
       "    .dataframe tbody tr th:only-of-type {\n",
       "        vertical-align: middle;\n",
       "    }\n",
       "\n",
       "    .dataframe tbody tr th {\n",
       "        vertical-align: top;\n",
       "    }\n",
       "\n",
       "    .dataframe thead th {\n",
       "        text-align: right;\n",
       "    }\n",
       "</style>\n",
       "<table border=\"1\" class=\"dataframe\">\n",
       "  <thead>\n",
       "    <tr style=\"text-align: right;\">\n",
       "      <th></th>\n",
       "      <th>Женщины</th>\n",
       "    </tr>\n",
       "  </thead>\n",
       "  <tbody>\n",
       "    <tr>\n",
       "      <th>0</th>\n",
       "      <td>48.7</td>\n",
       "    </tr>\n",
       "    <tr>\n",
       "      <th>1</th>\n",
       "      <td>57.3</td>\n",
       "    </tr>\n",
       "    <tr>\n",
       "      <th>2</th>\n",
       "      <td>65</td>\n",
       "    </tr>\n",
       "    <tr>\n",
       "      <th>3</th>\n",
       "      <td>70.8</td>\n",
       "    </tr>\n",
       "    <tr>\n",
       "      <th>4</th>\n",
       "      <td>74.2</td>\n",
       "    </tr>\n",
       "  </tbody>\n",
       "</table>\n",
       "</div>"
      ],
      "text/plain": [
       "  Женщины\n",
       "0    48.7\n",
       "1    57.3\n",
       "2      65\n",
       "3    70.8\n",
       "4    74.2"
      ]
     },
     "execution_count": 27,
     "metadata": {},
     "output_type": "execute_result"
    }
   ],
   "source": [
    "dataW.head()"
   ]
  },
  {
   "cell_type": "markdown",
   "id": "b24df8aa",
   "metadata": {},
   "source": [
    "# модель Женщины"
   ]
  },
  {
   "cell_type": "code",
   "execution_count": 28,
   "id": "e50e78b1",
   "metadata": {},
   "outputs": [
    {
     "name": "stdout",
     "output_type": "stream",
     "text": [
      "75.11\n"
     ]
    }
   ],
   "source": [
    "#Среднее\n",
    "modelW = float(dataW.mean())\n",
    "print('{0:.4}'.format(modelW))"
   ]
  },
  {
   "cell_type": "code",
   "execution_count": 29,
   "id": "1e4890cb",
   "metadata": {},
   "outputs": [
    {
     "name": "stdout",
     "output_type": "stream",
     "text": [
      "6.05%\n"
     ]
    }
   ],
   "source": [
    "#Ошибка\n",
    "errW = np.abs(dataW-modelW).mean()\n",
    "print('{0:.3}%'.format(float(100*err/model)))"
   ]
  },
  {
   "cell_type": "code",
   "execution_count": 31,
   "id": "2af435c2",
   "metadata": {},
   "outputs": [
    {
     "name": "stdout",
     "output_type": "stream",
     "text": [
      "4.07%\n"
     ]
    }
   ],
   "source": [
    "#2021 - 78,3\n",
    "resultW = 78.3\n",
    "print('{0:.3}%'.format(100*(resultW-modelW)/resultW))"
   ]
  },
  {
   "cell_type": "code",
   "execution_count": null,
   "id": "c75e100b",
   "metadata": {},
   "outputs": [],
   "source": []
  }
 ],
 "metadata": {
  "kernelspec": {
   "display_name": "Python 3 (ipykernel)",
   "language": "python",
   "name": "python3"
  },
  "language_info": {
   "codemirror_mode": {
    "name": "ipython",
    "version": 3
   },
   "file_extension": ".py",
   "mimetype": "text/x-python",
   "name": "python",
   "nbconvert_exporter": "python",
   "pygments_lexer": "ipython3",
   "version": "3.9.7"
  }
 },
 "nbformat": 4,
 "nbformat_minor": 5
}
